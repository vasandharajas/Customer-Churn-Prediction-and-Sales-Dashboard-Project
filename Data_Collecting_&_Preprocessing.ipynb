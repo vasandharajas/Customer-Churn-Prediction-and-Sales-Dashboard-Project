{
 "cells": [
  {
   "cell_type": "markdown",
   "id": "76f3f18f",
   "metadata": {},
   "source": [
    "# Global Superstore Online Sales to Collect Customer.csv, Transaction.csv, Product.csv in this E_Commerce Sales Dashboard Project"
   ]
  },
  {
   "cell_type": "code",
   "execution_count": 14,
   "id": "6a517e15",
   "metadata": {},
   "outputs": [],
   "source": [
    "### Import Libraries \n",
    "import pandas as pd\n",
    "import numpy as np\n",
    "from sklearn.preprocessing import MinMaxScaler\n",
    "from sklearn.preprocessing import LabelEncoder"
   ]
  },
  {
   "cell_type": "code",
   "execution_count": null,
   "id": "d732600f",
   "metadata": {},
   "outputs": [],
   "source": [
    "###  Load Data CSVs\n",
    "customer = pd.read_csv(r\"customers.csv\")\n",
    "transaction = pd.read_csv(r\"transactions.csv\")\n",
    "product = pd.read_csv(r\"products.csv\")"
   ]
  },
  {
   "cell_type": "code",
   "execution_count": 3,
   "id": "ef467065",
   "metadata": {},
   "outputs": [
    {
     "name": "stdout",
     "output_type": "stream",
     "text": [
      " Customer Dataset\n",
      "Shape: (2859, 9)  | Length: 2859\n",
      "  Customer ID      Customer Name First_Name  Gender    Segment        Country  \\\n",
      "0    BM-11575      Brendan Murry    Brendan    Male  Corporate  United States   \n",
      "1    LR-16915       Lena Radford       Lena  Female   Consumer  United States   \n",
      "2    CA-12310  Christine Abelman  Christine  Female  Corporate  United States   \n",
      "3    BO-11350      Bill Overfelt       Bill    Male  Corporate  United States   \n",
      "4    EB-13975         Erica Bern      Erica  Female  Corporate  United States   \n",
      "\n",
      "           City           State   Region  \n",
      "0  Gaithersburg        Maryland     East  \n",
      "1   Los Angeles      California     West  \n",
      "2   San Antonio           Texas  Central  \n",
      "3  Broken Arrow        Oklahoma  Central  \n",
      "4     Charlotte  North Carolina    South  \n"
     ]
    }
   ],
   "source": [
    "### To Show the DataFrame of Customer.CSV\n",
    "print(\" Customer Dataset\")\n",
    "print(\"Shape:\", customer.shape, \" | Length:\", len(customer))\n",
    "print(customer.head())"
   ]
  },
  {
   "cell_type": "code",
   "execution_count": 4,
   "id": "a43de052",
   "metadata": {},
   "outputs": [
    {
     "name": "stdout",
     "output_type": "stream",
     "text": [
      " Product Dataset\n",
      "Shape: (1783, 4)  | Length: 1783\n",
      "        Product ID         Category Sub-Category  \\\n",
      "0  FUR-BO-10004709        Furniture    Bookcases   \n",
      "1  TEC-PH-10000455       Technology       Phones   \n",
      "2  OFF-ST-10003692  Office Supplies      Storage   \n",
      "3  TEC-AC-10002217       Technology  Accessories   \n",
      "4  TEC-AC-10002942       Technology  Accessories   \n",
      "\n",
      "                                        Product Name  \n",
      "0  Bush Westfield Collection Bookcases, Medium Ch...  \n",
      "1                                        GE 30522EE2  \n",
      "2  Recycled Steel Personal File for Hanging File ...  \n",
      "3                Imation Clip USB flash drive - 8 GB  \n",
      "4  WD My Passport Ultra 1TB Portable External Har...  \n"
     ]
    }
   ],
   "source": [
    "### To Show the DataFrame of Product.CSV\n",
    "print(\" Product Dataset\")\n",
    "print(\"Shape:\", product.shape, \" | Length:\", len(product))\n",
    "print(product.head())"
   ]
  },
  {
   "cell_type": "code",
   "execution_count": 5,
   "id": "630e7bb6",
   "metadata": {},
   "outputs": [
    {
     "name": "stdout",
     "output_type": "stream",
     "text": [
      " Transaction Dataset\n",
      "Shape: (5901, 11)  | Length: 5901\n",
      "   RowID        Order ID  Order Date   Ship Date       Ship Mode Customer ID  \\\n",
      "0   4918  CA-2019-160304  01-01-2019  07-01-2019  Standard Class    BM-11575   \n",
      "1   4919  CA-2019-160304  02-01-2019  07-01-2019  Standard Class    BM-11575   \n",
      "2   4920  CA-2019-160304  02-01-2019  07-01-2019  Standard Class    BM-11575   \n",
      "3   3074  CA-2019-125206  03-01-2019  05-01-2019     First Class    LR-16915   \n",
      "4   8604  US-2019-116365  03-01-2019  08-01-2019  Standard Class    CA-12310   \n",
      "\n",
      "        Product ID   Sales  Quantity   Profit Payment Mode  \n",
      "0  FUR-BO-10004709   73.94         1  28.2668       Online  \n",
      "1  FUR-BO-10004709  173.94         3  38.2668       Online  \n",
      "2  TEC-PH-10000455  231.98         2  67.2742        Cards  \n",
      "3  OFF-ST-10003692  114.46         2  28.6150       Online  \n",
      "4  TEC-AC-10002217   30.08         2  -5.2640       Online  \n"
     ]
    }
   ],
   "source": [
    "### To Show the DataFrame of Transaction.CSV\n",
    "print(\" Transaction Dataset\")\n",
    "print(\"Shape:\", transaction.shape, \" | Length:\", len(transaction))\n",
    "print(transaction.head())"
   ]
  },
  {
   "cell_type": "code",
   "execution_count": null,
   "id": "1967b504",
   "metadata": {},
   "outputs": [
    {
     "name": "stdout",
     "output_type": "stream",
     "text": [
      "   RowID        Order ID  Order Date   Ship Date       Ship Mode Customer ID  \\\n",
      "0   4918  CA-2019-160304  01-01-2019  07-01-2019  Standard Class    BM-11575   \n",
      "1   4919  CA-2019-160304  02-01-2019  07-01-2019  Standard Class    BM-11575   \n",
      "2   4920  CA-2019-160304  02-01-2019  07-01-2019  Standard Class    BM-11575   \n",
      "3   3074  CA-2019-125206  03-01-2019  05-01-2019     First Class    LR-16915   \n",
      "4   8604  US-2019-116365  03-01-2019  08-01-2019  Standard Class    CA-12310   \n",
      "\n",
      "        Product ID   Sales  Quantity   Profit Payment Mode  \n",
      "0  FUR-BO-10004709   73.94         1  28.2668       Online  \n",
      "1  FUR-BO-10004709  173.94         3  38.2668       Online  \n",
      "2  TEC-PH-10000455  231.98         2  67.2742        Cards  \n",
      "3  OFF-ST-10003692  114.46         2  28.6150       Online  \n",
      "4  TEC-AC-10002217   30.08         2  -5.2640       Online  \n"
     ]
    }
   ],
   "source": [
    "## To Drop The \"Nan\" value in transaction.csv and change the \"RowID\" name\n",
    "file_path = r\"transactions.csv\"\n",
    "transaction.rename(columns={\"Row ID+O6G3A1:R6\": \"RowID\"}, inplace=True)\n",
    "\n",
    "if 'Returns' in transaction.columns:\n",
    "    transaction.drop(columns=['Returns'], inplace=True)\n",
    "\n",
    "transaction.dropna(inplace=True)\n",
    "\n",
    "transaction.to_csv(file_path, index=False)\n",
    "print(transaction.head())"
   ]
  },
  {
   "cell_type": "code",
   "execution_count": null,
   "id": "feca1672",
   "metadata": {},
   "outputs": [],
   "source": [
    "### To Merge the Customer, Product, Transaction CSVs\n",
    "###  File paths\n",
    "customer_path = r\"customers.csv\"\n",
    "product_path = r\"products.csv\"\n",
    "transaction_path = r\"transactions.csv\"\n",
    "\n",
    "merged_path = r\"merged_all_data.csv\"\n",
    "\n",
    "# Load CSVs\n",
    "customers = pd.read_csv(customer_path)\n",
    "products = pd.read_csv(product_path)\n",
    "transactions = pd.read_csv(transaction_path)\n",
    "\n",
    "#####  Columns to remove spaces\n",
    "customers.rename(columns={\"Customer ID\": \"Customer_ID\"}, inplace=True)\n",
    "products.rename(columns={\"Product ID\": \"Product_ID\"}, inplace=True)\n",
    "transactions.rename(columns={\"Customer ID\": \"Customer_ID\", \"Product ID\": \"Product_ID\"}, inplace=True)\n",
    "\n",
    "####   Merge transactions with customers\n",
    "merged = pd.merge(transactions, customers, on=\"Customer_ID\", how=\"left\")\n",
    "\n",
    "####  Merge with products\n",
    "merged = pd.merge(merged, products, on=\"Product_ID\", how=\"left\")"
   ]
  },
  {
   "cell_type": "code",
   "execution_count": null,
   "id": "fa951fb5",
   "metadata": {},
   "outputs": [
    {
     "name": "stdout",
     "output_type": "stream",
     "text": [
      " Final shape: (28204, 22)\n",
      " Preview:\n",
      "    RowID        Order ID  Order Date   Ship Date       Ship Mode Customer_ID  \\\n",
      "0   4918  CA-2019-160304  01-01-2019  07-01-2019  Standard Class    BM-11575   \n",
      "1   4918  CA-2019-160304  01-01-2019  07-01-2019  Standard Class    BM-11575   \n",
      "2   4918  CA-2019-160304  01-01-2019  07-01-2019  Standard Class    BM-11575   \n",
      "3   4918  CA-2019-160304  01-01-2019  07-01-2019  Standard Class    BM-11575   \n",
      "4   4919  CA-2019-160304  02-01-2019  07-01-2019  Standard Class    BM-11575   \n",
      "\n",
      "        Product_ID   Sales  Quantity   Profit  ... First_Name Gender  \\\n",
      "0  FUR-BO-10004709   73.94         1  28.2668  ...    Brendan   Male   \n",
      "1  FUR-BO-10004709   73.94         1  28.2668  ...    Brendan   Male   \n",
      "2  FUR-BO-10004709   73.94         1  28.2668  ...    Brendan   Male   \n",
      "3  FUR-BO-10004709   73.94         1  28.2668  ...    Brendan   Male   \n",
      "4  FUR-BO-10004709  173.94         3  38.2668  ...    Brendan   Male   \n",
      "\n",
      "     Segment        Country          City       State   Region   Category  \\\n",
      "0  Corporate  United States  Gaithersburg    Maryland     East  Furniture   \n",
      "1  Corporate  United States    Montebello  California     West  Furniture   \n",
      "2  Corporate  United States       Chicago    Illinois  Central  Furniture   \n",
      "3  Corporate  United States   Los Angeles  California     West  Furniture   \n",
      "4  Corporate  United States  Gaithersburg    Maryland     East  Furniture   \n",
      "\n",
      "  Sub-Category                                       Product Name  \n",
      "0    Bookcases  Bush Westfield Collection Bookcases, Medium Ch...  \n",
      "1    Bookcases  Bush Westfield Collection Bookcases, Medium Ch...  \n",
      "2    Bookcases  Bush Westfield Collection Bookcases, Medium Ch...  \n",
      "3    Bookcases  Bush Westfield Collection Bookcases, Medium Ch...  \n",
      "4    Bookcases  Bush Westfield Collection Bookcases, Medium Ch...  \n",
      "\n",
      "[5 rows x 22 columns]\n"
     ]
    }
   ],
   "source": [
    "# Save merged dataset\n",
    "merged_path = r\"merged_all_data.csv\"\n",
    "merged.to_csv(merged_path, index=False)\n",
    "\n",
    "print(\" Final shape:\", merged.shape)\n",
    "print(\" Preview:\\n\", merged.head())"
   ]
  },
  {
   "cell_type": "code",
   "execution_count": 10,
   "id": "88b05f3b",
   "metadata": {},
   "outputs": [
    {
     "name": "stdout",
     "output_type": "stream",
     "text": [
      "<class 'pandas.core.frame.DataFrame'>\n",
      "RangeIndex: 28204 entries, 0 to 28203\n",
      "Data columns (total 22 columns):\n",
      " #   Column         Non-Null Count  Dtype  \n",
      "---  ------         --------------  -----  \n",
      " 0   RowID          28204 non-null  int64  \n",
      " 1   Order ID       28204 non-null  object \n",
      " 2   Order Date     28204 non-null  object \n",
      " 3   Ship Date      28204 non-null  object \n",
      " 4   Ship Mode      28204 non-null  object \n",
      " 5   Customer_ID    28204 non-null  object \n",
      " 6   Product_ID     28204 non-null  object \n",
      " 7   Sales          28204 non-null  float64\n",
      " 8   Quantity       28204 non-null  int64  \n",
      " 9   Profit         28204 non-null  float64\n",
      " 10  Payment Mode   28204 non-null  object \n",
      " 11  Customer Name  28204 non-null  object \n",
      " 12  First_Name     28204 non-null  object \n",
      " 13  Gender         28204 non-null  object \n",
      " 14  Segment        28204 non-null  object \n",
      " 15  Country        28204 non-null  object \n",
      " 16  City           28204 non-null  object \n",
      " 17  State          28204 non-null  object \n",
      " 18  Region         28204 non-null  object \n",
      " 19  Category       28204 non-null  object \n",
      " 20  Sub-Category   28204 non-null  object \n",
      " 21  Product Name   28204 non-null  object \n",
      "dtypes: float64(2), int64(2), object(18)\n",
      "memory usage: 4.7+ MB\n",
      " Preview:\n",
      " None\n"
     ]
    }
   ],
   "source": [
    "print(\" Preview:\\n\", merged.info())"
   ]
  },
  {
   "cell_type": "code",
   "execution_count": 11,
   "id": "dbe9da49",
   "metadata": {},
   "outputs": [
    {
     "name": "stdout",
     "output_type": "stream",
     "text": [
      " Preview:\n",
      "               RowID         Sales      Quantity        Profit\n",
      "count  28204.000000  28204.000000  28204.000000  28204.000000\n",
      "mean    5066.826762    264.947173      3.785775     28.776796\n",
      "std     2882.071394    466.618167      2.218434    237.395342\n",
      "min        1.000000      0.836000      1.000000  -6599.978000\n",
      "25%     2590.000000     70.950000      2.000000      1.713800\n",
      "50%     5177.500000    128.400000      3.000000      8.532000\n",
      "75%     7509.000000    270.087500      5.000000     29.328400\n",
      "max     9994.000000   9099.930000     14.000000   8399.976000\n"
     ]
    }
   ],
   "source": [
    "print(\" Preview:\\n\", merged.describe())"
   ]
  },
  {
   "cell_type": "code",
   "execution_count": 13,
   "id": "1a107f29",
   "metadata": {},
   "outputs": [],
   "source": [
    "### Normalize the Numerical Data\n",
    "scaler = MinMaxScaler()\n",
    "merged[['Sales', 'Quantity', 'Profit']] = scaler.fit_transform(merged[['Sales', 'Quantity', 'Profit']])"
   ]
  },
  {
   "cell_type": "code",
   "execution_count": 15,
   "id": "f8e25937",
   "metadata": {},
   "outputs": [],
   "source": [
    "###  Encode Categorical Variables\n",
    "label_cols = ['Ship Mode', 'Payment Mode', 'Gender', 'Segment', 'Region', 'Category', 'Sub-Category']\n",
    "encoder = LabelEncoder()\n",
    "\n",
    "for col in label_cols:\n",
    "    merged[col] = encoder.fit_transform(merged[col])"
   ]
  },
  {
   "cell_type": "markdown",
   "id": "ba0f6b30",
   "metadata": {},
   "source": [
    "Feature Engineering to extract Purchase Frequency, Engagement Scores, and Subscription Tenure. "
   ]
  },
  {
   "cell_type": "code",
   "execution_count": 16,
   "id": "f38754bc",
   "metadata": {},
   "outputs": [],
   "source": [
    "# 1. Purchase Frequency\n",
    "purchase_freq = merged.groupby('Customer_ID')['Order ID'].nunique().reset_index()\n",
    "purchase_freq.columns = ['Customer_ID', 'Purchase_Frequency']\n",
    "merged = merged.merge(purchase_freq, on='Customer_ID', how='left')"
   ]
  },
  {
   "cell_type": "code",
   "execution_count": 17,
   "id": "f556b91a",
   "metadata": {},
   "outputs": [],
   "source": [
    "# 2. Engagement Score (total spend × frequency)\n",
    "engagement = merged.groupby('Customer_ID')['Sales'].sum().reset_index()\n",
    "engagement.columns = ['Customer_ID', 'Engagement_Score']\n",
    "merged = merged.merge(engagement, on='Customer_ID', how='left')"
   ]
  },
  {
   "cell_type": "code",
   "execution_count": 22,
   "id": "e3a8261e",
   "metadata": {},
   "outputs": [],
   "source": [
    "# 3.  Subscription Tenure in Days\n",
    "merged['Order Date'] = pd.to_datetime(merged['Order Date'], dayfirst=True, errors='coerce')\n",
    "merged['Ship Date'] = pd.to_datetime(merged['Ship Date'], dayfirst=True, errors='coerce')\n",
    "\n",
    "tenure = merged.groupby('Customer_ID').agg({\n",
    "    'Order Date': 'min',\n",
    "    'Ship Date': 'max'\n",
    "}).reset_index()\n",
    "\n",
    "tenure['Tenure_Days'] = (tenure['Ship Date'] - tenure['Order Date']).dt.days\n",
    "merged = merged.merge(tenure[['Customer_ID', 'Tenure_Days']], on='Customer_ID', how='left')"
   ]
  },
  {
   "cell_type": "code",
   "execution_count": null,
   "id": "328b9d25",
   "metadata": {},
   "outputs": [
    {
     "name": "stdout",
     "output_type": "stream",
     "text": [
      "✅ Feature Engineering dataset saved at: C:\\Users\\anand\\Desktop\\Customer Churn Prediction and Sales Dashboard Project\\datas\\feature_engineering_preprocessed_data.csv\n"
     ]
    }
   ],
   "source": [
    "# Save file Feature Engineered Dataset\n",
    "file_path = r\"featureengineering data.csv\"\n",
    "merged.to_csv(file_path, index=False)\n",
    "print(\"✅ Feature Engineering dataset saved at:\", file_path)"
   ]
  },
  {
   "cell_type": "code",
   "execution_count": 24,
   "id": "40380b30",
   "metadata": {},
   "outputs": [
    {
     "data": {
      "text/html": [
       "<div>\n",
       "<style scoped>\n",
       "    .dataframe tbody tr th:only-of-type {\n",
       "        vertical-align: middle;\n",
       "    }\n",
       "\n",
       "    .dataframe tbody tr th {\n",
       "        vertical-align: top;\n",
       "    }\n",
       "\n",
       "    .dataframe thead th {\n",
       "        text-align: right;\n",
       "    }\n",
       "</style>\n",
       "<table border=\"1\" class=\"dataframe\">\n",
       "  <thead>\n",
       "    <tr style=\"text-align: right;\">\n",
       "      <th></th>\n",
       "      <th>RowID</th>\n",
       "      <th>Order ID</th>\n",
       "      <th>Order Date</th>\n",
       "      <th>Ship Date</th>\n",
       "      <th>Ship Mode</th>\n",
       "      <th>Customer_ID</th>\n",
       "      <th>Product_ID</th>\n",
       "      <th>Sales</th>\n",
       "      <th>Quantity</th>\n",
       "      <th>Profit</th>\n",
       "      <th>...</th>\n",
       "      <th>State</th>\n",
       "      <th>Region</th>\n",
       "      <th>Category</th>\n",
       "      <th>Sub-Category</th>\n",
       "      <th>Product Name</th>\n",
       "      <th>Purchase_Frequency</th>\n",
       "      <th>Engagement_Score</th>\n",
       "      <th>Tenure_Days_x</th>\n",
       "      <th>Tenure_Days_y</th>\n",
       "      <th>Tenure_Days</th>\n",
       "    </tr>\n",
       "  </thead>\n",
       "  <tbody>\n",
       "    <tr>\n",
       "      <th>0</th>\n",
       "      <td>4918</td>\n",
       "      <td>CA-2019-160304</td>\n",
       "      <td>2019-01-01</td>\n",
       "      <td>2019-01-07</td>\n",
       "      <td>3</td>\n",
       "      <td>BM-11575</td>\n",
       "      <td>FUR-BO-10004709</td>\n",
       "      <td>0.008034</td>\n",
       "      <td>0.000000</td>\n",
       "      <td>0.441884</td>\n",
       "      <td>...</td>\n",
       "      <td>Maryland</td>\n",
       "      <td>1</td>\n",
       "      <td>0</td>\n",
       "      <td>4</td>\n",
       "      <td>Bush Westfield Collection Bookcases, Medium Ch...</td>\n",
       "      <td>5</td>\n",
       "      <td>0.552966</td>\n",
       "      <td>631</td>\n",
       "      <td>631</td>\n",
       "      <td>631</td>\n",
       "    </tr>\n",
       "    <tr>\n",
       "      <th>1</th>\n",
       "      <td>4918</td>\n",
       "      <td>CA-2019-160304</td>\n",
       "      <td>2019-01-01</td>\n",
       "      <td>2019-01-07</td>\n",
       "      <td>3</td>\n",
       "      <td>BM-11575</td>\n",
       "      <td>FUR-BO-10004709</td>\n",
       "      <td>0.008034</td>\n",
       "      <td>0.000000</td>\n",
       "      <td>0.441884</td>\n",
       "      <td>...</td>\n",
       "      <td>California</td>\n",
       "      <td>3</td>\n",
       "      <td>0</td>\n",
       "      <td>4</td>\n",
       "      <td>Bush Westfield Collection Bookcases, Medium Ch...</td>\n",
       "      <td>5</td>\n",
       "      <td>0.552966</td>\n",
       "      <td>631</td>\n",
       "      <td>631</td>\n",
       "      <td>631</td>\n",
       "    </tr>\n",
       "    <tr>\n",
       "      <th>2</th>\n",
       "      <td>4918</td>\n",
       "      <td>CA-2019-160304</td>\n",
       "      <td>2019-01-01</td>\n",
       "      <td>2019-01-07</td>\n",
       "      <td>3</td>\n",
       "      <td>BM-11575</td>\n",
       "      <td>FUR-BO-10004709</td>\n",
       "      <td>0.008034</td>\n",
       "      <td>0.000000</td>\n",
       "      <td>0.441884</td>\n",
       "      <td>...</td>\n",
       "      <td>Illinois</td>\n",
       "      <td>0</td>\n",
       "      <td>0</td>\n",
       "      <td>4</td>\n",
       "      <td>Bush Westfield Collection Bookcases, Medium Ch...</td>\n",
       "      <td>5</td>\n",
       "      <td>0.552966</td>\n",
       "      <td>631</td>\n",
       "      <td>631</td>\n",
       "      <td>631</td>\n",
       "    </tr>\n",
       "    <tr>\n",
       "      <th>3</th>\n",
       "      <td>4918</td>\n",
       "      <td>CA-2019-160304</td>\n",
       "      <td>2019-01-01</td>\n",
       "      <td>2019-01-07</td>\n",
       "      <td>3</td>\n",
       "      <td>BM-11575</td>\n",
       "      <td>FUR-BO-10004709</td>\n",
       "      <td>0.008034</td>\n",
       "      <td>0.000000</td>\n",
       "      <td>0.441884</td>\n",
       "      <td>...</td>\n",
       "      <td>California</td>\n",
       "      <td>3</td>\n",
       "      <td>0</td>\n",
       "      <td>4</td>\n",
       "      <td>Bush Westfield Collection Bookcases, Medium Ch...</td>\n",
       "      <td>5</td>\n",
       "      <td>0.552966</td>\n",
       "      <td>631</td>\n",
       "      <td>631</td>\n",
       "      <td>631</td>\n",
       "    </tr>\n",
       "    <tr>\n",
       "      <th>4</th>\n",
       "      <td>4919</td>\n",
       "      <td>CA-2019-160304</td>\n",
       "      <td>2019-01-02</td>\n",
       "      <td>2019-01-07</td>\n",
       "      <td>3</td>\n",
       "      <td>BM-11575</td>\n",
       "      <td>FUR-BO-10004709</td>\n",
       "      <td>0.019024</td>\n",
       "      <td>0.153846</td>\n",
       "      <td>0.442551</td>\n",
       "      <td>...</td>\n",
       "      <td>Maryland</td>\n",
       "      <td>1</td>\n",
       "      <td>0</td>\n",
       "      <td>4</td>\n",
       "      <td>Bush Westfield Collection Bookcases, Medium Ch...</td>\n",
       "      <td>5</td>\n",
       "      <td>0.552966</td>\n",
       "      <td>631</td>\n",
       "      <td>631</td>\n",
       "      <td>631</td>\n",
       "    </tr>\n",
       "  </tbody>\n",
       "</table>\n",
       "<p>5 rows × 27 columns</p>\n",
       "</div>"
      ],
      "text/plain": [
       "   RowID        Order ID Order Date  Ship Date  Ship Mode Customer_ID  \\\n",
       "0   4918  CA-2019-160304 2019-01-01 2019-01-07          3    BM-11575   \n",
       "1   4918  CA-2019-160304 2019-01-01 2019-01-07          3    BM-11575   \n",
       "2   4918  CA-2019-160304 2019-01-01 2019-01-07          3    BM-11575   \n",
       "3   4918  CA-2019-160304 2019-01-01 2019-01-07          3    BM-11575   \n",
       "4   4919  CA-2019-160304 2019-01-02 2019-01-07          3    BM-11575   \n",
       "\n",
       "        Product_ID     Sales  Quantity    Profit  ...       State Region  \\\n",
       "0  FUR-BO-10004709  0.008034  0.000000  0.441884  ...    Maryland      1   \n",
       "1  FUR-BO-10004709  0.008034  0.000000  0.441884  ...  California      3   \n",
       "2  FUR-BO-10004709  0.008034  0.000000  0.441884  ...    Illinois      0   \n",
       "3  FUR-BO-10004709  0.008034  0.000000  0.441884  ...  California      3   \n",
       "4  FUR-BO-10004709  0.019024  0.153846  0.442551  ...    Maryland      1   \n",
       "\n",
       "  Category  Sub-Category                                       Product Name  \\\n",
       "0        0             4  Bush Westfield Collection Bookcases, Medium Ch...   \n",
       "1        0             4  Bush Westfield Collection Bookcases, Medium Ch...   \n",
       "2        0             4  Bush Westfield Collection Bookcases, Medium Ch...   \n",
       "3        0             4  Bush Westfield Collection Bookcases, Medium Ch...   \n",
       "4        0             4  Bush Westfield Collection Bookcases, Medium Ch...   \n",
       "\n",
       "  Purchase_Frequency Engagement_Score Tenure_Days_x  Tenure_Days_y  \\\n",
       "0                  5         0.552966           631            631   \n",
       "1                  5         0.552966           631            631   \n",
       "2                  5         0.552966           631            631   \n",
       "3                  5         0.552966           631            631   \n",
       "4                  5         0.552966           631            631   \n",
       "\n",
       "   Tenure_Days  \n",
       "0          631  \n",
       "1          631  \n",
       "2          631  \n",
       "3          631  \n",
       "4          631  \n",
       "\n",
       "[5 rows x 27 columns]"
      ]
     },
     "execution_count": 24,
     "metadata": {},
     "output_type": "execute_result"
    }
   ],
   "source": [
    "merged.head()"
   ]
  }
 ],
 "metadata": {
  "kernelspec": {
   "display_name": "Python 3",
   "language": "python",
   "name": "python3"
  },
  "language_info": {
   "codemirror_mode": {
    "name": "ipython",
    "version": 3
   },
   "file_extension": ".py",
   "mimetype": "text/x-python",
   "name": "python",
   "nbconvert_exporter": "python",
   "pygments_lexer": "ipython3",
   "version": "3.13.5"
  }
 },
 "nbformat": 4,
 "nbformat_minor": 5
}
